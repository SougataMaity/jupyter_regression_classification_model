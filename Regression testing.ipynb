{
 "cells": [
  {
   "cell_type": "code",
   "execution_count": 54,
   "id": "7c96bd67",
   "metadata": {},
   "outputs": [],
   "source": [
    "\n",
    "%run model.ipynb"
   ]
  },
  {
   "cell_type": "code",
   "execution_count": 55,
   "id": "3adc7d59",
   "metadata": {},
   "outputs": [
    {
     "data": {
      "application/vnd.jupyter.widget-view+json": {
       "model_id": "aeb0adad818d4412b034c914db90cd4e",
       "version_major": 2,
       "version_minor": 0
      },
      "text/plain": [
       "Dropdown(description='Model', options={'---': '---', 'Linear Regression': 'lr', 'Random Forest': 'rf'}, value=…"
      ]
     },
     "metadata": {},
     "output_type": "display_data"
    },
    {
     "data": {
      "application/vnd.jupyter.widget-view+json": {
       "model_id": "7077d47560a041e4aec4b0671e6c5821",
       "version_major": 2,
       "version_minor": 0
      },
      "text/plain": [
       "Output()"
      ]
     },
     "metadata": {},
     "output_type": "display_data"
    }
   ],
   "source": [
    "from IPython.display import display\n",
    "from ipywidgets import Dropdown\n",
    "\n",
    "import os\n",
    "import numpy as np\n",
    "import pandas as pd\n",
    "from sklearn import metrics\n",
    "import ipywidgets as widgets\n",
    "from IPython.display import display\n",
    "from sklearn.metrics import r2_score\n",
    "from sklearn.preprocessing import LabelEncoder\n",
    "from sklearn.metrics import confusion_matrix, classification_report\n",
    "from sklearn.model_selection import train_test_split, cross_val_score\n",
    "from IPython.display import clear_output\n",
    "outs = widgets.Output()\n",
    "\n",
    "dataset = pd.read_csv(\"Dataset\\\\WineData.csv\")\n",
    "encode = LabelEncoder()\n",
    "\n",
    "for col in dataset.columns:\n",
    "    if dataset[f'{col}'].dtype == 'object':\n",
    "        dataset[f'{col}'] = encode.fit_transform(dataset[f'{col}'])\n",
    "\n",
    "col = [col for col in dataset.columns]\n",
    "print('Variables => ', col)\n",
    "\n",
    "dep = input(\"Please enter dependent variable: \")\n",
    "y = dataset[dep]\n",
    "X = dataset.drop(dep, axis=1)\n",
    "X_train, X_test, y_train, y_test = train_test_split(X, y, test_size=.30, random_state=1)\n",
    "\n",
    "mytestfilter = widgets.Dropdown(options = {'---': '---','Linear Regression': 'lr', 'Random Forest': 'rf'}, description=\"Model\")\n",
    "display(mytestfilter)\n",
    "display(outs)\n",
    "mytestfilter.observe(mytest, names='value')"
   ]
  },
  {
   "cell_type": "code",
   "execution_count": 47,
   "id": "34fcd318",
   "metadata": {},
   "outputs": [
    {
     "data": {
      "application/vnd.jupyter.widget-view+json": {
       "model_id": "9753f7859e1f43959e983ff53dc7ebcd",
       "version_major": 2,
       "version_minor": 0
      },
      "text/plain": [
       "Dropdown(description='Prediction Model', options={'---': '---', 'Linear Regression': 'lr', 'Random Forest': 'r…"
      ]
     },
     "metadata": {},
     "output_type": "display_data"
    },
    {
     "data": {
      "application/vnd.jupyter.widget-view+json": {
       "model_id": "efdd339fc163472894d2350d4de2969f",
       "version_major": 2,
       "version_minor": 0
      },
      "text/plain": [
       "Output()"
      ]
     },
     "metadata": {},
     "output_type": "display_data"
    }
   ],
   "source": [
    "from IPython.display import display\n",
    "from ipywidgets import Dropdown\n",
    "\n",
    "import os\n",
    "import numpy as np\n",
    "import pandas as pd\n",
    "from sklearn import metrics\n",
    "import ipywidgets as widgets\n",
    "from IPython.display import display\n",
    "from sklearn.metrics import r2_score\n",
    "from sklearn.preprocessing import LabelEncoder\n",
    "from sklearn.metrics import confusion_matrix, classification_report\n",
    "from sklearn.model_selection import train_test_split, cross_val_score\n",
    "from IPython.display import clear_output\n",
    "outs = widgets.Output()\n",
    "\n",
    "dataset = pd.read_csv(\"Dataset\\\\WineData.csv\")\n",
    "encode = LabelEncoder()\n",
    "\n",
    "for col in dataset.columns:\n",
    "    if dataset[f'{col}'].dtype == 'object':\n",
    "        dataset[f'{col}'] = encode.fit_transform(dataset[f'{col}'])\n",
    "\n",
    "col = [col for col in dataset.columns]\n",
    "print('Variables => ', col)\n",
    "\n",
    "dep = input(\"Please enter dependent variable: \")\n",
    "y = dataset[dep]\n",
    "X = dataset.drop(dep, axis=1)\n",
    "X_train, X_test, y_train, y_test = train_test_split(X, y, test_size=.30, random_state=1)\n",
    "\n",
    "def mytest(x):\n",
    "    with outs:\n",
    "      clear_output()\n",
    "      lookhere = mytestfilter.value\n",
    "      if lookhere=='lr':\n",
    "        from sklearn.linear_model import LinearRegression\n",
    "        model = LinearRegression()\n",
    "        model.fit(X_train, y_train)\n",
    "        predict = model.predict(X_test)\n",
    "        \n",
    "        print(f'\\n{model}')\n",
    "        print(f'\\nIntercept : {round(model.intercept_,3)}\\n')\n",
    "        print('Coefficents')\n",
    "        for idx, col_name in enumerate(X_train.columns):\n",
    "            print(\"{} : {}\".format(col_name, round(model.coef_[idx],3)))\n",
    "\n",
    "        Adj_r2 = 1 - (1-r2_score(y_test, predict)) * (len(y)-1)/(len(y)-X.shape[1]-1)\n",
    "\n",
    "        res = ''\n",
    "        for idx, col_name in enumerate(X_train.columns):\n",
    "            if round(model.coef_[idx], 3) != 0:\n",
    "                res = res + \"({}) x {} + \".format(round(model.coef_[idx], 3),col_name)\n",
    "\n",
    "        print(f'\\nTrain R-squared : {r2_score(y_train, model.predict(X_train))}')\n",
    "        print(f'Test R-squared : {r2_score(y_test, predict)}')\n",
    "        print(f'Adjusted R-squared : {Adj_r2}')\n",
    "        print((f\"\\n{dep} = {round(model.intercept_,3)} +  {res}\")[0:-2]) \n",
    "        \n",
    "      if lookhere=='rf':\n",
    "        from sklearn.ensemble import RandomForestRegressor\n",
    "        model = RandomForestRegressor(random_state = 1)\n",
    "        model.fit(X_train, y_train)\n",
    "        predict = model.predict(X_test)\n",
    "        \n",
    "        print(f'\\n{model}')   \n",
    "        print('\\nCoefficents\\n')\n",
    "        for col, coef in zip(X.columns, model.feature_importances_):\n",
    "            print(\"{} : {} \".format(col, round(coef, 3)))\n",
    "\n",
    "        res = ''\n",
    "        for col, coef in zip(X.columns, model.feature_importances_):\n",
    "            if round(coef, 3) != 0:\n",
    "                res = res + \"({}) x {} + \".format(round(coef, 3),col)\n",
    "\n",
    "        print(f'\\nTrain R-squared : {r2_score(y_train, model.predict(X_train))}')\n",
    "        print(f'Test R-squared : {r2_score(y_test, predict)}')\n",
    "        print(f'\\n{dep} = {res[0:-2]}')\n",
    "\n",
    "\n",
    "mytestfilter = widgets.Dropdown(options = {'---': '---','Linear Regression': 'lr', 'Random Forest': 'rf'}, description=\"Model\")\n",
    "display(mytestfilter)\n",
    "display(outs)\n",
    "mytestfilter.observe(mytest, names='value')"
   ]
  },
  {
   "cell_type": "code",
   "execution_count": 57,
   "id": "bec6e186",
   "metadata": {},
   "outputs": [
    {
     "data": {
      "application/vnd.jupyter.widget-view+json": {
       "model_id": "00f9af399f6047468e82b97dbb10b672",
       "version_major": 2,
       "version_minor": 0
      },
      "text/plain": [
       "ToggleButtons(options=('Slow', 'Regular', 'Fast'), tooltips=('Description of slow', 'Description of regular', …"
      ]
     },
     "metadata": {},
     "output_type": "display_data"
    }
   ],
   "source": [
    "widgets.ToggleButtons(\n",
    "    options=['Slow', 'Regular', 'Fast'],\n",
    "    disabled=False,\n",
    "    button_style='', # 'success', 'info', 'warning', 'danger' or ''\n",
    "    tooltips=['Description of slow', 'Description of regular', 'Description of fast'],\n",
    "#     icons=['check'] * 3\n",
    ")"
   ]
  },
  {
   "cell_type": "code",
   "execution_count": 5,
   "id": "dbc79244",
   "metadata": {},
   "outputs": [
    {
     "data": {
      "application/vnd.jupyter.widget-view+json": {
       "model_id": "f6cd68ded98443aa8dc1a0080e843138",
       "version_major": 2,
       "version_minor": 0
      },
      "text/plain": [
       "ToggleButtons(options=('Regression', 'Classification'), value='Regression')"
      ]
     },
     "metadata": {},
     "output_type": "display_data"
    },
    {
     "data": {
      "application/vnd.jupyter.widget-view+json": {
       "model_id": "d6e1674a011940f09a6f0d7922337833",
       "version_major": 2,
       "version_minor": 0
      },
      "text/plain": [
       "Output()"
      ]
     },
     "metadata": {},
     "output_type": "display_data"
    }
   ],
   "source": [
    "import ipywidgets as widgets\n",
    "from IPython.display import clear_output\n",
    "outs = widgets.Output()\n",
    "\n",
    "def method(x):\n",
    "    with outs:\n",
    "        clear_output()\n",
    "        lookhere = mytestfilter.value\n",
    "        if lookhere=='Regression':\n",
    "            print(\"hello\")\n",
    "        if lookhere=='Classification':\n",
    "            print(\"goodbye\")\n",
    "\n",
    "models = widgets.ToggleButtons(options=['Regression', 'Classification'])\n",
    "display(models)\n",
    "display(outs)\n",
    "mytestfilter.observe(method, 'value')"
   ]
  },
  {
   "cell_type": "code",
   "execution_count": 61,
   "id": "ead94747",
   "metadata": {},
   "outputs": [
    {
     "data": {
      "application/vnd.jupyter.widget-view+json": {
       "model_id": "ff3d28680866441a964620cecff03163",
       "version_major": 2,
       "version_minor": 0
      },
      "text/plain": [
       "ToggleButtons(options=('Slow', 'Regular', 'Fast'), value='Slow')"
      ]
     },
     "metadata": {},
     "output_type": "display_data"
    },
    {
     "data": {
      "application/vnd.jupyter.widget-view+json": {
       "model_id": "c5edd6b2ac3a4148b461de6aed8e1a52",
       "version_major": 2,
       "version_minor": 0
      },
      "text/plain": [
       "Output(layout=Layout(border='1px solid black'))"
      ]
     },
     "metadata": {},
     "output_type": "display_data"
    }
   ],
   "source": [
    "import ipywidgets as w\n",
    "toggle = w.ToggleButtons(options=['Slow', 'Regular', 'Fast'])\n",
    "\n",
    "out = w.Output(layout=w.Layout(border = '1px solid black'))\n",
    "\n",
    "def fun(obj):\n",
    "    with out:\n",
    "        if obj['new']:  \n",
    "            display('asd')\n",
    "        else:\n",
    "            out.clear_output()\n",
    "\n",
    "toggle.observe(fun, 'value')\n",
    "display(toggle)\n",
    "display(out)"
   ]
  },
  {
   "cell_type": "code",
   "execution_count": null,
   "id": "029c87ed",
   "metadata": {},
   "outputs": [],
   "source": []
  }
 ],
 "metadata": {
  "finalized": {
   "timestamp": 1654169768649,
   "trusted": true
  },
  "kernelspec": {
   "display_name": "Python 3 (ipykernel)",
   "language": "python",
   "name": "python3"
  },
  "language_info": {
   "codemirror_mode": {
    "name": "ipython",
    "version": 3
   },
   "file_extension": ".py",
   "mimetype": "text/x-python",
   "name": "python",
   "nbconvert_exporter": "python",
   "pygments_lexer": "ipython3",
   "version": "3.9.10"
  }
 },
 "nbformat": 4,
 "nbformat_minor": 5
}
